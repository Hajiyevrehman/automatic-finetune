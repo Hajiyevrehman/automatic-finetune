{
 "cells": [
  {
   "cell_type": "markdown",
   "metadata": {},
   "source": [
    "# Training Step on Lmabdalabs Notebook"
   ]
  },
  {
   "cell_type": "code",
   "execution_count": null,
   "metadata": {
    "vscode": {
     "languageId": "plaintext"
    }
   },
   "outputs": [],
   "source": [
    "!pip install -q pip-autoremove\n",
    "!pip-autoremove -y torch torchvision torchaudio\n",
    "!pip install -q torch torchvision torchaudio --index-url https://download.pytorch.org/whl/cu121\n",
    "!pip install -q unsloth\n",
    "!pip install -q accelerate bitsandbytes transformers trl peft datasets\n",
    "!pip install -q boto3 pyyaml\n",
    "!pip install -q tf-keras\n",
    "\n",
    "!nvidia-smi\n",
    "\n",
    "import os\n",
    "import sys\n",
    "from pathlib import Path\n",
    "\n",
    "REPO_URL = \"https://github.com/Hajiyevrehman/automatic-finetune.git\"\n",
    "!git clone {REPO_URL}\n",
    "%cd automatic-finetune\n",
    "\n",
    "# Set AWS credentials (fill these in)\n",
    "os.environ[\"AWS_ACCESS_KEY_ID\"] = \"\"\n",
    "os.environ[\"AWS_SECRET_ACCESS_KEY\"] = \"\"\n",
    "os.environ[\"AWS_REGION\"] = \"us-east-1\"\n",
    "\n",
    "!mkdir -p models/qwen-0.5b-finetuned\n",
    "!mkdir -p tmp\n",
    "\n",
    "# Run the training\n",
    "!PYTHONPATH=. python src/training/train.py --config configs/training/training_config.yaml"
   ]
  }
 ],
 "metadata": {
  "language_info": {
   "name": "python"
  }
 },
 "nbformat": 4,
 "nbformat_minor": 2
}
