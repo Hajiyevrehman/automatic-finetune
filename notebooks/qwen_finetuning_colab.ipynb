{
 "cells": [
  {
   "cell_type": "code",
   "execution_count": null,
   "metadata": {
    "vscode": {
     "languageId": "plaintext"
    }
   },
   "outputs": [],
   "source": [
    "!nvidia-smi\n"
   ]
  },
  {
   "cell_type": "markdown",
   "metadata": {},
   "source": [
    "## 2. Clone Your Repository"
   ]
  },
  {
   "cell_type": "code",
   "execution_count": null,
   "metadata": {
    "vscode": {
     "languageId": "plaintext"
    }
   },
   "outputs": [],
   "source": [
    "!git clone https://github.com/yourusername/llm-finetuning-project.git\n",
    "%cd llm-finetuning-project\n"
   ]
  },
  {
   "cell_type": "markdown",
   "metadata": {},
   "source": [
    "##  3. Install Dependencies\n"
   ]
  },
  {
   "cell_type": "code",
   "execution_count": null,
   "metadata": {
    "vscode": {
     "languageId": "plaintext"
    }
   },
   "outputs": [],
   "source": [
    "!pip install -r requirements.txt"
   ]
  },
  {
   "cell_type": "markdown",
   "metadata": {},
   "source": [
    "## 4. Set Up AWS Credentials"
   ]
  },
  {
   "cell_type": "code",
   "execution_count": null,
   "metadata": {
    "vscode": {
     "languageId": "plaintext"
    }
   },
   "outputs": [],
   "source": [
    "import os\n",
    "\n",
    "# Replace these with your actual AWS credentials\n",
    "os.environ[\"AWS_ACCESS_KEY_ID\"] = \"your_access_key_id\"\n",
    "os.environ[\"AWS_SECRET_ACCESS_KEY\"] = \"your_secret_access_key\"\n",
    "os.environ[\"AWS_REGION\"] = \"us-east-1\"  # Replace with your preferred region\n",
    "\n",
    "# Verify credentials are set\n",
    "print(\"AWS credentials configured successfully!\")\n"
   ]
  },
  {
   "cell_type": "markdown",
   "metadata": {},
   "source": [
    "## 5. Test AWS S3 Access\n"
   ]
  },
  {
   "cell_type": "code",
   "execution_count": null,
   "metadata": {
    "vscode": {
     "languageId": "plaintext"
    }
   },
   "outputs": [],
   "source": [
    "import boto3\n",
    "\n",
    "s3 = boto3.client('s3')\n",
    "bucket_name = \"llm-finetuning-rahman-1234\"  # Replace with your bucket name\n",
    "\n",
    "try:\n",
    "    response = s3.list_objects_v2(Bucket=bucket_name, Prefix=\"data/processed/\", MaxKeys=10)\n",
    "    if 'Contents' in response:\n",
    "        print(\"Files in S3 bucket:\")\n",
    "        for obj in response['Contents']:\n",
    "            print(f\"- {obj['Key']}\")\n",
    "    else:\n",
    "        print(f\"No files found in {bucket_name}/data/processed/\")\n",
    "    print(\"\\nS3 connection successful!\")\n",
    "except Exception as e:\n",
    "    print(f\"Error accessing S3: {str(e)}\")\n"
   ]
  },
  {
   "cell_type": "markdown",
   "metadata": {},
   "source": [
    "## 6. Create Temporary Directories"
   ]
  },
  {
   "cell_type": "code",
   "execution_count": null,
   "metadata": {
    "vscode": {
     "languageId": "plaintext"
    }
   },
   "outputs": [],
   "source": [
    "!mkdir -p models/qwen-0.5b-finetuned\n",
    "!mkdir -p mlruns\n",
    "!mkdir -p checkpoints"
   ]
  },
  {
   "cell_type": "markdown",
   "metadata": {},
   "source": [
    "## 7. Set Up Python Path\n"
   ]
  },
  {
   "cell_type": "code",
   "execution_count": null,
   "metadata": {
    "vscode": {
     "languageId": "plaintext"
    }
   },
   "outputs": [],
   "source": [
    "import sys\n",
    "sys.path.append('.')\n",
    "print(f\"Current working directory: {os.getcwd()}\")\n"
   ]
  },
  {
   "cell_type": "markdown",
   "metadata": {},
   "source": [
    "## 8. Modify Configuration File"
   ]
  },
  {
   "cell_type": "code",
   "execution_count": null,
   "metadata": {
    "vscode": {
     "languageId": "plaintext"
    }
   },
   "outputs": [],
   "source": [
    "import yaml\n",
    "\n",
    "# Configuration for Colab environment\n",
    "config_path = \"configs/training/qwen_training_config.yaml\"\n",
    "\n",
    "# Load config\n",
    "with open(config_path, \"r\") as f:\n",
    "    config = yaml.safe_load(f)\n",
    "\n",
    "# Update for Colab environment\n",
    "config[\"training\"][\"batch_size\"] = 2  # Smaller batch size for Colab\n",
    "config[\"training\"][\"gradient_accumulation_steps\"] = 4\n",
    "config[\"training\"][\"fp16\"] = True\n",
    "config[\"training\"][\"num_epochs\"] = 1  # For testing, use just 1 epoch\n",
    "\n",
    "# Save updated config\n",
    "with open(\"configs/training/qwen_colab_config.yaml\", \"w\") as f:\n",
    "    yaml.dump(config, f)\n",
    "\n",
    "print(\"Configuration updated for Colab environment!\")\n"
   ]
  },
  {
   "cell_type": "markdown",
   "metadata": {},
   "source": [
    "## 9. Run Training Script"
   ]
  },
  {
   "cell_type": "code",
   "execution_count": null,
   "metadata": {
    "vscode": {
     "languageId": "plaintext"
    }
   },
   "outputs": [],
   "source": [
    "!PYTHONPATH=. python src/training/train.py --config configs/training/qwen_colab_config.yaml\n"
   ]
  },
  {
   "cell_type": "markdown",
   "metadata": {},
   "source": [
    "## 10. Verify Trained Model"
   ]
  },
  {
   "cell_type": "code",
   "execution_count": null,
   "metadata": {
    "vscode": {
     "languageId": "plaintext"
    }
   },
   "outputs": [],
   "source": [
    "!ls -la models/qwen-0.5b-finetuned\n"
   ]
  },
  {
   "cell_type": "markdown",
   "metadata": {},
   "source": [
    "## 11. Upload Results to S3 (Optional)\n"
   ]
  },
  {
   "cell_type": "code",
   "execution_count": null,
   "metadata": {
    "vscode": {
     "languageId": "plaintext"
    }
   },
   "outputs": [],
   "source": [
    "from src.training.train import upload_to_s3\n",
    "\n",
    "local_model_path = \"models/qwen-0.5b-finetuned\"\n",
    "s3_output_path = \"s3://llm-finetuning-rahman-1234/models/qwen-0.5b-finetuned\"\n",
    "\n",
    "print(f\"Uploading model from {local_model_path} to {s3_output_path}...\")\n",
    "upload_to_s3(local_model_path, s3_output_path)\n",
    "print(\"Upload complete!\")"
   ]
  }
 ],
 "metadata": {
  "language_info": {
   "name": "python"
  }
 },
 "nbformat": 4,
 "nbformat_minor": 2
}
